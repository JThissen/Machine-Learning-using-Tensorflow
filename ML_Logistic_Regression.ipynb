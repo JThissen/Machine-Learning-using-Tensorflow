{
  "nbformat": 4,
  "nbformat_minor": 0,
  "metadata": {
    "colab": {
      "name": "ML_Logistic_Regression.ipynb",
      "provenance": [],
      "include_colab_link": true
    },
    "kernelspec": {
      "name": "python3",
      "display_name": "Python 3"
    }
  },
  "cells": [
    {
      "cell_type": "markdown",
      "metadata": {
        "id": "view-in-github",
        "colab_type": "text"
      },
      "source": [
        "<a href=\"https://colab.research.google.com/github/JThissen/Machine-Learning-using-Tensorflow/blob/master/ML_Logistic_Regression.ipynb\" target=\"_parent\"><img src=\"https://colab.research.google.com/assets/colab-badge.svg\" alt=\"Open In Colab\"/></a>"
      ]
    },
    {
      "cell_type": "code",
      "metadata": {
        "id": "k6eWvLmf8vWI",
        "colab_type": "code",
        "outputId": "7b9191e2-85d6-476d-c6f4-166875e991b9",
        "colab": {
          "base_uri": "https://localhost:8080/",
          "height": 34
        }
      },
      "source": [
        "try:\n",
        "  %tensorflow_version 2.x\n",
        "except Exception:\n",
        "  pass"
      ],
      "execution_count": 0,
      "outputs": [
        {
          "output_type": "stream",
          "text": [
            "TensorFlow 2.x selected.\n"
          ],
          "name": "stdout"
        }
      ]
    },
    {
      "cell_type": "code",
      "metadata": {
        "id": "82-oxulaOlP9",
        "colab_type": "code",
        "colab": {}
      },
      "source": [
        "import tensorflow as tf\n",
        "import numpy as np\n",
        "import matplotlib.pyplot as plt"
      ],
      "execution_count": 0,
      "outputs": []
    },
    {
      "cell_type": "code",
      "metadata": {
        "id": "N5KZJbu3n_Jj",
        "colab_type": "code",
        "outputId": "738c7e64-56fd-495a-90bd-06fcc1945664",
        "colab": {
          "base_uri": "https://localhost:8080/",
          "height": 336
        }
      },
      "source": [
        "class PrepareData():\n",
        "  def __init__(self, dataset):\n",
        "    (x_train, y_train), (x_test, y_test) = tf.keras.datasets.mnist.load_data()\n",
        "    self.x_train = x_train\n",
        "    self.y_train = y_train\n",
        "    self.x_test = x_test\n",
        "    self.y_test = y_test\n",
        "\n",
        "  def reshape_normalize(self, data, name):\n",
        "    data = np.array(data, dtype=np.float32)\n",
        "    data = data.reshape(data.shape[0], data.shape[1] * data.shape[2]) / 255\n",
        "\n",
        "    if(name == \"x_train\"):\n",
        "      self.x_train = data\n",
        "    elif(name == \"x_test\"):\n",
        "      self.x_test = data\n",
        "\n",
        "class NeuralNetwork(tf.keras.Model):\n",
        "  def __init__(self, unique_classes):\n",
        "    super(NeuralNetwork, self).__init__(self)\n",
        "    self.layer_1 = tf.keras.layers.Dense(128, activation=tf.nn.relu)\n",
        "    self.layer_2 = tf.keras.layers.Dense(128, activation=tf.nn.relu)\n",
        "    self.layer_output = tf.keras.layers.Dense(unique_classes, activation=tf.nn.softmax)\n",
        "\n",
        "  def call(self, x):\n",
        "    x = self.layer_1(x)\n",
        "    x = self.layer_output(x)\n",
        "    return x\n",
        "\n",
        "class Utilities:\n",
        "  @staticmethod\n",
        "  def round_number(x, decimals = 3):\n",
        "    return round(x * pow(10, decimals)) / pow(10, decimals)  \n",
        "\n",
        "  \n",
        "def loss_cross_entropy(y_train, y_pred):\n",
        "  y_train = tf.cast(y_train, tf.int64)\n",
        "  y_train = tf.one_hot(y_train, 10)\n",
        "  return tf.reduce_mean(-tf.reduce_sum(y_train * tf.math.log(y_pred)))\n",
        "\n",
        "def optimize_network(x_train, y_train):\n",
        "  with tf.GradientTape() as gt:\n",
        "    y_pred = neural_network(x_train)\n",
        "    loss = loss_cross_entropy(y_train, y_pred)\n",
        "\n",
        "  gradients = gt.gradient(loss, neural_network.trainable_variables)\n",
        "  optimizer.apply_gradients(zip(gradients, neural_network.trainable_variables))\n",
        "\n",
        "\n",
        "prepare_data = PrepareData(tf.keras.datasets.mnist.load_data())\n",
        "prepare_data.reshape_normalize(prepare_data.x_train, \"x_train\")\n",
        "prepare_data.reshape_normalize(prepare_data.x_test, \"x_test\")\n",
        "\n",
        "training_data = tf.data.Dataset.from_tensor_slices(tuple((prepare_data.x_train, prepare_data.y_train)))\n",
        "training_data = training_data.batch(32)\n",
        "\n",
        "optimizer = tf.optimizers.SGD()\n",
        "neural_network = NeuralNetwork(10)\n",
        "\n",
        "for i, (j, k) in enumerate(training_data.take(2000), 1):\n",
        "  optimize_network(j, k)\n",
        "\n",
        "  if(i % 100 == 0):\n",
        "    pred = neural_network(j)\n",
        "    loss = loss_cross_entropy(k, pred)\n",
        "    print(f\"iteration: {i}, loss: {Utilities.round_number(loss.numpy())}\")"
      ],
      "execution_count": 0,
      "outputs": [
        {
          "output_type": "stream",
          "text": [
            "iteration: 100, loss: 3.335\n",
            "iteration: 200, loss: 1.249\n",
            "iteration: 300, loss: 2.788\n",
            "iteration: 400, loss: 4.699\n",
            "iteration: 500, loss: 1.891\n",
            "iteration: 600, loss: 1.016\n",
            "iteration: 700, loss: 0.533\n",
            "iteration: 800, loss: 1.592\n",
            "iteration: 900, loss: 1.088\n",
            "iteration: 1000, loss: 0.868\n",
            "iteration: 1100, loss: 0.828\n",
            "iteration: 1200, loss: 1.577\n",
            "iteration: 1300, loss: 1.185\n",
            "iteration: 1400, loss: 0.404\n",
            "iteration: 1500, loss: 0.691\n",
            "iteration: 1600, loss: 0.473\n",
            "iteration: 1700, loss: 1.035\n",
            "iteration: 1800, loss: 0.25\n"
          ],
          "name": "stdout"
        }
      ]
    },
    {
      "cell_type": "code",
      "metadata": {
        "id": "_21mOayzSpjK",
        "colab_type": "code",
        "outputId": "7b45fbf8-3b4c-4c75-e2c4-40de9d886140",
        "colab": {
          "base_uri": "https://localhost:8080/",
          "height": 1000
        }
      },
      "source": [
        "loop_range = [100, 110]\n",
        "softmax_probabilities = neural_network(prepare_data.x_test[:loop_range[1]])\n",
        "square_root = np.int8(np.sqrt(prepare_data.x_test[0].shape[0]))\n",
        "\n",
        "for i in range(loop_range[0], loop_range[1]):\n",
        "  print(f\"Prediction: {np.argmax(softmax_probabilities.numpy()[i])}\")\n",
        "  plt.imshow(prepare_data.x_test[i].reshape(square_root, square_root), cmap=\"binary\")\n",
        "  plt.show()"
      ],
      "execution_count": 0,
      "outputs": [
        {
          "output_type": "stream",
          "text": [
            "(10000, 784)\n",
            "Prediction: 6\n"
          ],
          "name": "stdout"
        },
        {
          "output_type": "display_data",
          "data": {
            "image/png": "[encoded data removed]",
            "text/plain": [
              "<Figure size 432x288 with 1 Axes>"
            ]
          },
          "metadata": {
            "tags": []
          }
        },
        {
          "output_type": "stream",
          "text": [
            "Prediction: 0\n"
          ],
          "name": "stdout"
        },
        {
          "output_type": "display_data",
          "data": {
            "image/png": "[encoded data removed]",
            "text/plain": [
              "<Figure size 432x288 with 1 Axes>"
            ]
          },
          "metadata": {
            "tags": []
          }
        },
        {
          "output_type": "stream",
          "text": [
            "Prediction: 5\n"
          ],
          "name": "stdout"
        },
        {
          "output_type": "display_data",
          "data": {
            "image/png": "[encoded data removed]",
            "text/plain": [
              "<Figure size 432x288 with 1 Axes>"
            ]
          },
          "metadata": {
            "tags": []
          }
        },
        {
          "output_type": "stream",
          "text": [
            "Prediction: 4\n"
          ],
          "name": "stdout"
        },
        {
          "output_type": "display_data",
          "data": {
            "image/png": "[encoded data removed]",
            "text/plain": [
              "<Figure size 432x288 with 1 Axes>"
            ]
          },
          "metadata": {
            "tags": []
          }
        },
        {
          "output_type": "stream",
          "text": [
            "Prediction: 9\n"
          ],
          "name": "stdout"
        },
        {
          "output_type": "display_data",
          "data": {
            "image/png": "[encoded data removed]",
            "text/plain": [
              "<Figure size 432x288 with 1 Axes>"
            ]
          },
          "metadata": {
            "tags": []
          }
        },
        {
          "output_type": "stream",
          "text": [
            "Prediction: 9\n"
          ],
          "name": "stdout"
        },
        {
          "output_type": "display_data",
          "data": {
            "image/png": "[encoded data removed]",
            "text/plain": [
              "<Figure size 432x288 with 1 Axes>"
            ]
          },
          "metadata": {
            "tags": []
          }
        },
        {
          "output_type": "stream",
          "text": [
            "Prediction: 2\n"
          ],
          "name": "stdout"
        },
        {
          "output_type": "display_data",
          "data": {
            "image/png": "[encoded data removed]",
            "text/plain": [
              "<Figure size 432x288 with 1 Axes>"
            ]
          },
          "metadata": {
            "tags": []
          }
        },
        {
          "output_type": "stream",
          "text": [
            "Prediction: 1\n"
          ],
          "name": "stdout"
        },
        {
          "output_type": "display_data",
          "data": {
            "image/png": "[encoded data removed]",
            "text/plain": [
              "<Figure size 432x288 with 1 Axes>"
            ]
          },
          "metadata": {
            "tags": []
          }
        },
        {
          "output_type": "stream",
          "text": [
            "Prediction: 9\n"
          ],
          "name": "stdout"
        },
        {
          "output_type": "display_data",
          "data": {
            "image/png": "[encoded data removed]",
            "text/plain": [
              "<Figure size 432x288 with 1 Axes>"
            ]
          },
          "metadata": {
            "tags": []
          }
        },
        {
          "output_type": "stream",
          "text": [
            "Prediction: 4\n"
          ],
          "name": "stdout"
        },
        {
          "output_type": "display_data",
          "data": {
            "image/png": "[encoded data removed]",
            "text/plain": [
              "<Figure size 432x288 with 1 Axes>"
            ]
          },
          "metadata": {
            "tags": []
          }
        }
      ]
    }
  ]
}