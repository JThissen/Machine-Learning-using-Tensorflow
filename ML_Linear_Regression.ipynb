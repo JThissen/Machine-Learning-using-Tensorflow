{
  "nbformat": 4,
  "nbformat_minor": 0,
  "metadata": {
    "colab": {
      "name": "ML_Linear_Regression.ipynb",
      "provenance": [],
      "include_colab_link": true
    },
    "kernelspec": {
      "name": "python3",
      "display_name": "Python 3"
    }
  },
  "cells": [
    {
      "cell_type": "markdown",
      "metadata": {
        "id": "view-in-github",
        "colab_type": "text"
      },
      "source": [
        "<a href=\"https://colab.research.google.com/github/JThissen/Machine-Learning-using-Tensorflow/blob/master/ML_Linear_Regression.ipynb\" target=\"_parent\"><img src=\"https://colab.research.google.com/assets/colab-badge.svg\" alt=\"Open In Colab\"/></a>"
      ]
    },
    {
      "cell_type": "code",
      "metadata": {
        "id": "2UCxvZm7uajp",
        "colab_type": "code",
        "outputId": "aabe3e6a-2291-4538-c6ae-73ba588151f0",
        "colab": {
          "base_uri": "https://localhost:8080/",
          "height": 34
        }
      },
      "source": [
        "try:\n",
        "  %tensorflow_version 2.x\n",
        "except Exception:\n",
        "  pass"
      ],
      "execution_count": 0,
      "outputs": [
        {
          "output_type": "stream",
          "text": [
            "TensorFlow 2.x selected.\n"
          ],
          "name": "stdout"
        }
      ]
    },
    {
      "cell_type": "code",
      "metadata": {
        "id": "qX5UfQkuujpd",
        "colab_type": "code",
        "colab": {}
      },
      "source": [
        "import tensorflow as tf\n",
        "import numpy as np\n",
        "import matplotlib.pyplot as plt\n",
        "import random\n"
      ],
      "execution_count": 0,
      "outputs": []
    },
    {
      "cell_type": "code",
      "metadata": {
        "id": "_N8Ys4jmHvvc",
        "colab_type": "code",
        "colab": {}
      },
      "source": [
        "class Utilities:\n",
        "  @staticmethod\n",
        "  def round_number(number, decimals = 3):\n",
        "    return round(number * pow(10, decimals)) / pow(10, decimals) \n"
      ],
      "execution_count": 0,
      "outputs": []
    },
    {
      "cell_type": "code",
      "metadata": {
        "id": "AVUUyg5Yvgzc",
        "colab_type": "code",
        "colab": {}
      },
      "source": [
        "def generate_linear_values(x, offset):\n",
        "  return 2 * x + random.uniform(0, offset)\n",
        "\n",
        "def initialize_data():\n",
        "  x_train = list([])\n",
        "  y_train = list([])\n",
        "\n",
        "  for i in range(0, 15):\n",
        "    x_train.append(i)\n",
        "    y_train.append(generate_linear_values(i, 15))\n",
        "\n",
        "  x_train = np.array(x_train)\n",
        "  y_train = np.array(y_train)\n",
        "  return tuple((x_train, y_train))\n",
        "\n",
        "def predict_y(w, x, b):\n",
        "  return w * x + b\n",
        "\n",
        "def loss_function(y_pred, y_target, container_size):\n",
        "  mse = tf.reduce_sum(tf.pow(y_pred - y_target, 2)) / container_size\n",
        "  return mse\n",
        "\n",
        "def optimize_function(x_train):\n",
        "  with tf.GradientTape() as gt:\n",
        "    y_pred = predict_y(weight, x_train, bias)\n",
        "    loss = loss_function(y_pred, y_train, len(x_train))\n",
        "\n",
        "  gradients = gt.gradient(loss, [weight, bias])\n",
        "  optimizer.apply_gradients(zip(gradients, [weight, bias]))\n",
        "\n",
        "def train_model(iterations):\n",
        "  for i in range(0, iterations + 1):\n",
        "    optimize_function(x_train)\n",
        "\n",
        "    if(i % 100 == 0):\n",
        "      loss = loss_function(predict_y(weight, x_train, bias), y_train, len(x_train))\n",
        "      print(f\"iteration: {i}, loss: {Utilities.round_number(loss.numpy())}, weight: {Utilities.round_number(weight.numpy())}, bias: {Utilities.round_number(bias.numpy())}\")"
      ],
      "execution_count": 0,
      "outputs": []
    },
    {
      "cell_type": "code",
      "metadata": {
        "id": "08mvDRk2HJ_x",
        "colab_type": "code",
        "outputId": "9194f832-b8b8-47d8-b4f8-183e36c38148",
        "colab": {
          "base_uri": "https://localhost:8080/",
          "height": 265
        }
      },
      "source": [
        "x_train, y_train = initialize_data()\n",
        "weight = tf.Variable(random.uniform(0, 1), name=\"weight\")\n",
        "bias = tf.Variable(random.uniform(0, 1), name=\"bias\")\n",
        "optimizer = tf.optimizers.SGD(0.01)\n",
        "\n",
        "plt.plot(x_train, y_train, \"x\", color=\"orange\", label=\"Target values\")\n",
        "plt.legend()\n",
        "plt.show()\n"
      ],
      "execution_count": 0,
      "outputs": [
        {
          "output_type": "display_data",
          "data": {
            "image/png": "[encoded data removed]",
            "text/plain": [
              "<Figure size 432x288 with 1 Axes>"
            ]
          },
          "metadata": {
            "tags": []
          }
        }
      ]
    },
    {
      "cell_type": "code",
      "metadata": {
        "id": "PAjRtf5lHOZJ",
        "colab_type": "code",
        "outputId": "e2258536-a983-4c3b-b776-587836620937",
        "colab": {
          "base_uri": "https://localhost:8080/",
          "height": 452
        }
      },
      "source": [
        "train_model(1000)\n",
        "plt.plot(x_train, y_train, \"x\", color=\"orange\", label=\"Original values\")\n",
        "plt.plot(x_train, np.array(weight * x_train + bias), color=\"#03befc\", label=\"y_predicted\")\n",
        "plt.legend()\n",
        "plt.show()"
      ],
      "execution_count": 0,
      "outputs": [
        {
          "output_type": "stream",
          "text": [
            "iteration: 0, loss: 78.971, weight: 3.71, bias: 1.253\n",
            "iteration: 100, loss: 20.369, weight: 2.545, bias: 4.351\n",
            "iteration: 200, loss: 16.863, weight: 2.354, bias: 6.193\n",
            "iteration: 300, loss: 15.69, weight: 2.243, bias: 7.259\n",
            "iteration: 400, loss: 15.297, weight: 2.179, bias: 7.875\n",
            "iteration: 500, loss: 15.166, weight: 2.142, bias: 8.232\n",
            "iteration: 600, loss: 15.122, weight: 2.121, bias: 8.438\n",
            "iteration: 700, loss: 15.107, weight: 2.108, bias: 8.557\n",
            "iteration: 800, loss: 15.102, weight: 2.101, bias: 8.626\n",
            "iteration: 900, loss: 15.101, weight: 2.097, bias: 8.666\n",
            "iteration: 1000, loss: 15.1, weight: 2.094, bias: 8.689\n"
          ],
          "name": "stdout"
        },
        {
          "output_type": "display_data",
          "data": {
            "image/png": "[encoded data removed]",
            "text/plain": [
              "<Figure size 432x288 with 1 Axes>"
            ]
          },
          "metadata": {
            "tags": []
          }
        }
      ]
    }
  ]
}